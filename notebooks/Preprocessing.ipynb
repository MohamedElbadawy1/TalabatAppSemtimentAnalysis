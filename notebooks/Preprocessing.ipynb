{
 "cells": [
  {
   "cell_type": "markdown",
   "id": "1a2b6caf",
   "metadata": {},
   "source": [
    "# Load Data"
   ]
  },
  {
   "cell_type": "code",
   "execution_count": 34,
   "id": "96c42603",
   "metadata": {},
   "outputs": [
    {
     "data": {
      "text/html": [
       "<div>\n",
       "<style scoped>\n",
       "    .dataframe tbody tr th:only-of-type {\n",
       "        vertical-align: middle;\n",
       "    }\n",
       "\n",
       "    .dataframe tbody tr th {\n",
       "        vertical-align: top;\n",
       "    }\n",
       "\n",
       "    .dataframe thead th {\n",
       "        text-align: right;\n",
       "    }\n",
       "</style>\n",
       "<table border=\"1\" class=\"dataframe\">\n",
       "  <thead>\n",
       "    <tr style=\"text-align: right;\">\n",
       "      <th></th>\n",
       "      <th>userName</th>\n",
       "      <th>content</th>\n",
       "      <th>score</th>\n",
       "      <th>at</th>\n",
       "    </tr>\n",
       "  </thead>\n",
       "  <tbody>\n",
       "    <tr>\n",
       "      <th>4578</th>\n",
       "      <td>مستخدم Google</td>\n",
       "      <td>البرنامج كتير حلو ودقيق في المواعيد بس المشكلر...</td>\n",
       "      <td>4</td>\n",
       "      <td>2025-04-20 19:15:11</td>\n",
       "    </tr>\n",
       "    <tr>\n",
       "      <th>1055</th>\n",
       "      <td>مستخدم Google</td>\n",
       "      <td>جميلة جدا</td>\n",
       "      <td>5</td>\n",
       "      <td>2025-06-30 22:38:03</td>\n",
       "    </tr>\n",
       "    <tr>\n",
       "      <th>4027</th>\n",
       "      <td>مستخدم Google</td>\n",
       "      <td>توووووووووحفه</td>\n",
       "      <td>5</td>\n",
       "      <td>2025-05-03 14:00:03</td>\n",
       "    </tr>\n",
       "    <tr>\n",
       "      <th>6556</th>\n",
       "      <td>مستخدم Google</td>\n",
       "      <td>سيء</td>\n",
       "      <td>1</td>\n",
       "      <td>2025-03-08 20:16:32</td>\n",
       "    </tr>\n",
       "    <tr>\n",
       "      <th>7214</th>\n",
       "      <td>مستخدم Google</td>\n",
       "      <td>روعه</td>\n",
       "      <td>5</td>\n",
       "      <td>2025-02-20 19:28:30</td>\n",
       "    </tr>\n",
       "    <tr>\n",
       "      <th>274</th>\n",
       "      <td>مستخدم Google</td>\n",
       "      <td>الخدمه ممتاز واصنف خدماتكم رائعه وفي جميع انحا...</td>\n",
       "      <td>5</td>\n",
       "      <td>2025-07-18 21:41:53</td>\n",
       "    </tr>\n",
       "    <tr>\n",
       "      <th>939</th>\n",
       "      <td>مستخدم Google</td>\n",
       "      <td>ممتاز</td>\n",
       "      <td>5</td>\n",
       "      <td>2025-07-03 15:42:29</td>\n",
       "    </tr>\n",
       "  </tbody>\n",
       "</table>\n",
       "</div>"
      ],
      "text/plain": [
       "           userName                                            content  score  \\\n",
       "4578  مستخدم Google  البرنامج كتير حلو ودقيق في المواعيد بس المشكلر...      4   \n",
       "1055  مستخدم Google                                          جميلة جدا      5   \n",
       "4027  مستخدم Google                                      توووووووووحفه      5   \n",
       "6556  مستخدم Google                                                سيء      1   \n",
       "7214  مستخدم Google                                               روعه      5   \n",
       "274   مستخدم Google  الخدمه ممتاز واصنف خدماتكم رائعه وفي جميع انحا...      5   \n",
       "939   مستخدم Google                                              ممتاز      5   \n",
       "\n",
       "                       at  \n",
       "4578  2025-04-20 19:15:11  \n",
       "1055  2025-06-30 22:38:03  \n",
       "4027  2025-05-03 14:00:03  \n",
       "6556  2025-03-08 20:16:32  \n",
       "7214  2025-02-20 19:28:30  \n",
       "274   2025-07-18 21:41:53  \n",
       "939   2025-07-03 15:42:29  "
      ]
     },
     "execution_count": 34,
     "metadata": {},
     "output_type": "execute_result"
    }
   ],
   "source": [
    "import pandas as pd\n",
    "\n",
    "df = pd.read_csv(\"A:/NTI/SentimentAnalysisProject/data/raw/talabat_reviews_sa_ar.csv\")\n",
    "df.dropna(subset=['content'],inplace=True)\n",
    "df.reset_index(drop=True, inplace=True)\n",
    "df.sample(7)\n"
   ]
  },
  {
   "cell_type": "markdown",
   "id": "36ace12f",
   "metadata": {},
   "source": [
    "# preprocessing"
   ]
  },
  {
   "cell_type": "code",
   "execution_count": 35,
   "id": "515f6c0d",
   "metadata": {},
   "outputs": [
    {
     "data": {
      "text/plain": [
       "sentiment\n",
       "positive    7682\n",
       "negative    2051\n",
       "neutral      267\n",
       "Name: count, dtype: int64"
      ]
     },
     "execution_count": 35,
     "metadata": {},
     "output_type": "execute_result"
    }
   ],
   "source": [
    "def label_sentiment(score):\n",
    "    if score <= 2:\n",
    "        return \"negative\"\n",
    "    elif score == 3:\n",
    "        return \"neutral\"\n",
    "    else:\n",
    "        return \"positive\"\n",
    "\n",
    "df['sentiment'] = df['score'].apply(label_sentiment)\n",
    "df['sentiment'].value_counts()\n"
   ]
  },
  {
   "cell_type": "code",
   "execution_count": 36,
   "id": "2b096946",
   "metadata": {},
   "outputs": [],
   "source": [
    "import re\n",
    "\n",
    "def clean_text(text):\n",
    "    text = re.sub(r'[^\\u0600-\\u06FF\\s]', ' ', str(text)) #remove special char , emoji ..\n",
    "    \n",
    "    text = re.sub(r'\\d+', '', text) #remove numbers (digits)\n",
    "    \n",
    "    text = re.sub(r'\\s+', ' ', text).strip() # remove spaces\n",
    "    \n",
    "    return text\n",
    "\n",
    "df['clean_text'] = df['content'].apply(clean_text)\n"
   ]
  },
  {
   "cell_type": "code",
   "execution_count": 37,
   "id": "4d123887",
   "metadata": {},
   "outputs": [],
   "source": [
    "def normalize_arabic(text):\n",
    "    text = re.sub(r'[إأآا]', 'ا', text)\n",
    "    text = re.sub(r'ى', 'ي', text)\n",
    "    text = re.sub(r'ؤ', 'ء', text)\n",
    "    text = re.sub(r'ة', 'ه', text)\n",
    "    return text\n",
    "\n",
    "df['clean_text'] = df['clean_text'].apply(normalize_arabic)\n"
   ]
  },
  {
   "cell_type": "code",
   "execution_count": 38,
   "id": "fd5e97f3",
   "metadata": {},
   "outputs": [],
   "source": [
    "def remove_tashkeel(text):\n",
    "    return re.sub(r'[\\u0617-\\u061A\\u064B-\\u0652]', '', text)\n",
    "\n",
    "df['clean_text'] = df['clean_text'].apply(remove_tashkeel)"
   ]
  },
  {
   "cell_type": "code",
   "execution_count": 39,
   "id": "74916c82",
   "metadata": {},
   "outputs": [
    {
     "name": "stderr",
     "output_type": "stream",
     "text": [
      "[nltk_data] Downloading package stopwords to\n",
      "[nltk_data]     C:\\Users\\MF\\AppData\\Roaming\\nltk_data...\n",
      "[nltk_data]   Package stopwords is already up-to-date!\n"
     ]
    }
   ],
   "source": [
    "import nltk\n",
    "nltk.download('stopwords')\n",
    "from nltk.corpus import stopwords\n",
    "\n",
    "custom_stopwords = set(stopwords.words('arabic')).union({\n",
    "    'تطبيق', 'برنامج', 'طلب', 'طلبات', 'علي', 'او', 'انا', 'في', 'من', 'هو', 'هي', 'إلي'\n",
    "})\n",
    "\n",
    "\n",
    "def remove_stopwords(text):\n",
    "    words = text.split()\n",
    "    filtered = [w for w in words if w not in custom_stopwords]\n",
    "    return ' '.join(filtered)\n",
    "\n",
    "df['clean_text'] = df['clean_text'].apply(remove_stopwords)\n"
   ]
  },
  {
   "cell_type": "code",
   "execution_count": null,
   "id": "9a519bba",
   "metadata": {},
   "outputs": [],
   "source": []
  },
  {
   "cell_type": "code",
   "execution_count": 40,
   "id": "575b81da",
   "metadata": {},
   "outputs": [
    {
     "name": "stderr",
     "output_type": "stream",
     "text": [
      "<>:1: SyntaxWarning: invalid escape sequence '\\d'\n",
      "<>:1: SyntaxWarning: invalid escape sequence '\\d'\n",
      "C:\\Users\\MF\\AppData\\Local\\Temp\\ipykernel_41468\\2794964541.py:1: SyntaxWarning: invalid escape sequence '\\d'\n",
      "  df.to_csv(\"A:/NTI/SentimentAnalysisProject\\data/processed/talabat_cleaned_reviews.csv\", index=False, encoding=\"utf-8-sig\")\n"
     ]
    }
   ],
   "source": [
    "df.to_csv(\"A:/NTI/SentimentAnalysisProject\\data/processed/talabat_cleaned_reviews.csv\", index=False, encoding=\"utf-8-sig\")"
   ]
  },
  {
   "cell_type": "code",
   "execution_count": null,
   "id": "348ff5bc",
   "metadata": {},
   "outputs": [],
   "source": []
  }
 ],
 "metadata": {
  "kernelspec": {
   "display_name": "Python 3",
   "language": "python",
   "name": "python3"
  },
  "language_info": {
   "codemirror_mode": {
    "name": "ipython",
    "version": 3
   },
   "file_extension": ".py",
   "mimetype": "text/x-python",
   "name": "python",
   "nbconvert_exporter": "python",
   "pygments_lexer": "ipython3",
   "version": "3.12.2"
  }
 },
 "nbformat": 4,
 "nbformat_minor": 5
}
